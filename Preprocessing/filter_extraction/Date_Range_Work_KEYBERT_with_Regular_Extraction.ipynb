{
  "cells": [
    {
      "cell_type": "markdown",
      "metadata": {
        "id": "AyghHHyOx48_"
      },
      "source": [
        "**HAVING KEYBERT WITH REGULAR EXTRACTION**\n",
        "\n",
        "\n",
        "For 'First API' extracting following - query, startDate, endDate, Range, typeOfWork"
      ]
    },
    {
      "cell_type": "code",
      "execution_count": 1,
      "metadata": {
        "colab": {
          "base_uri": "https://localhost:8080/"
        },
        "id": "3Ng7NewyyGtC",
        "outputId": "9987f1e1-4e19-45ac-f94b-1d44682f9b3a"
      },
      "outputs": [
        {
          "name": "stdout",
          "output_type": "stream",
          "text": [
            "Requirement already satisfied: keybert in /usr/local/lib/python3.10/dist-packages (0.7.0)\n",
            "Requirement already satisfied: sentence-transformers>=0.3.8 in /usr/local/lib/python3.10/dist-packages (from keybert) (2.2.2)\n",
            "Requirement already satisfied: scikit-learn>=0.22.2 in /usr/local/lib/python3.10/dist-packages (from keybert) (1.2.2)\n",
            "Requirement already satisfied: numpy>=1.18.5 in /usr/local/lib/python3.10/dist-packages (from keybert) (1.23.5)\n",
            "Requirement already satisfied: rich>=10.4.0 in /usr/local/lib/python3.10/dist-packages (from keybert) (13.5.2)\n",
            "Requirement already satisfied: markdown-it-py>=2.2.0 in /usr/local/lib/python3.10/dist-packages (from rich>=10.4.0->keybert) (3.0.0)\n",
            "Requirement already satisfied: pygments<3.0.0,>=2.13.0 in /usr/local/lib/python3.10/dist-packages (from rich>=10.4.0->keybert) (2.16.1)\n",
            "Requirement already satisfied: scipy>=1.3.2 in /usr/local/lib/python3.10/dist-packages (from scikit-learn>=0.22.2->keybert) (1.11.2)\n",
            "Requirement already satisfied: joblib>=1.1.1 in /usr/local/lib/python3.10/dist-packages (from scikit-learn>=0.22.2->keybert) (1.3.2)\n",
            "Requirement already satisfied: threadpoolctl>=2.0.0 in /usr/local/lib/python3.10/dist-packages (from scikit-learn>=0.22.2->keybert) (3.2.0)\n",
            "Requirement already satisfied: transformers<5.0.0,>=4.6.0 in /usr/local/lib/python3.10/dist-packages (from sentence-transformers>=0.3.8->keybert) (4.33.3)\n",
            "Requirement already satisfied: tqdm in /usr/local/lib/python3.10/dist-packages (from sentence-transformers>=0.3.8->keybert) (4.66.1)\n",
            "Requirement already satisfied: torch>=1.6.0 in /usr/local/lib/python3.10/dist-packages (from sentence-transformers>=0.3.8->keybert) (2.0.1+cu118)\n",
            "Requirement already satisfied: torchvision in /usr/local/lib/python3.10/dist-packages (from sentence-transformers>=0.3.8->keybert) (0.15.2+cu118)\n",
            "Requirement already satisfied: nltk in /usr/local/lib/python3.10/dist-packages (from sentence-transformers>=0.3.8->keybert) (3.8.1)\n",
            "Requirement already satisfied: sentencepiece in /usr/local/lib/python3.10/dist-packages (from sentence-transformers>=0.3.8->keybert) (0.1.99)\n",
            "Requirement already satisfied: huggingface-hub>=0.4.0 in /usr/local/lib/python3.10/dist-packages (from sentence-transformers>=0.3.8->keybert) (0.17.3)\n",
            "Requirement already satisfied: filelock in /usr/local/lib/python3.10/dist-packages (from huggingface-hub>=0.4.0->sentence-transformers>=0.3.8->keybert) (3.12.2)\n",
            "Requirement already satisfied: fsspec in /usr/local/lib/python3.10/dist-packages (from huggingface-hub>=0.4.0->sentence-transformers>=0.3.8->keybert) (2023.6.0)\n",
            "Requirement already satisfied: requests in /usr/local/lib/python3.10/dist-packages (from huggingface-hub>=0.4.0->sentence-transformers>=0.3.8->keybert) (2.31.0)\n",
            "Requirement already satisfied: pyyaml>=5.1 in /usr/local/lib/python3.10/dist-packages (from huggingface-hub>=0.4.0->sentence-transformers>=0.3.8->keybert) (6.0.1)\n",
            "Requirement already satisfied: typing-extensions>=3.7.4.3 in /usr/local/lib/python3.10/dist-packages (from huggingface-hub>=0.4.0->sentence-transformers>=0.3.8->keybert) (4.5.0)\n",
            "Requirement already satisfied: packaging>=20.9 in /usr/local/lib/python3.10/dist-packages (from huggingface-hub>=0.4.0->sentence-transformers>=0.3.8->keybert) (23.1)\n",
            "Requirement already satisfied: mdurl~=0.1 in /usr/local/lib/python3.10/dist-packages (from markdown-it-py>=2.2.0->rich>=10.4.0->keybert) (0.1.2)\n",
            "Requirement already satisfied: sympy in /usr/local/lib/python3.10/dist-packages (from torch>=1.6.0->sentence-transformers>=0.3.8->keybert) (1.12)\n",
            "Requirement already satisfied: networkx in /usr/local/lib/python3.10/dist-packages (from torch>=1.6.0->sentence-transformers>=0.3.8->keybert) (3.1)\n",
            "Requirement already satisfied: jinja2 in /usr/local/lib/python3.10/dist-packages (from torch>=1.6.0->sentence-transformers>=0.3.8->keybert) (3.1.2)\n",
            "Requirement already satisfied: triton==2.0.0 in /usr/local/lib/python3.10/dist-packages (from torch>=1.6.0->sentence-transformers>=0.3.8->keybert) (2.0.0)\n",
            "Requirement already satisfied: cmake in /usr/local/lib/python3.10/dist-packages (from triton==2.0.0->torch>=1.6.0->sentence-transformers>=0.3.8->keybert) (3.27.4.1)\n",
            "Requirement already satisfied: lit in /usr/local/lib/python3.10/dist-packages (from triton==2.0.0->torch>=1.6.0->sentence-transformers>=0.3.8->keybert) (16.0.6)\n",
            "Requirement already satisfied: regex!=2019.12.17 in /usr/local/lib/python3.10/dist-packages (from transformers<5.0.0,>=4.6.0->sentence-transformers>=0.3.8->keybert) (2023.6.3)\n",
            "Requirement already satisfied: tokenizers!=0.11.3,<0.14,>=0.11.1 in /usr/local/lib/python3.10/dist-packages (from transformers<5.0.0,>=4.6.0->sentence-transformers>=0.3.8->keybert) (0.13.3)\n",
            "Requirement already satisfied: safetensors>=0.3.1 in /usr/local/lib/python3.10/dist-packages (from transformers<5.0.0,>=4.6.0->sentence-transformers>=0.3.8->keybert) (0.3.3)\n",
            "Requirement already satisfied: click in /usr/local/lib/python3.10/dist-packages (from nltk->sentence-transformers>=0.3.8->keybert) (8.1.7)\n",
            "Requirement already satisfied: pillow!=8.3.*,>=5.3.0 in /usr/local/lib/python3.10/dist-packages (from torchvision->sentence-transformers>=0.3.8->keybert) (9.4.0)\n",
            "Requirement already satisfied: MarkupSafe>=2.0 in /usr/local/lib/python3.10/dist-packages (from jinja2->torch>=1.6.0->sentence-transformers>=0.3.8->keybert) (2.1.3)\n",
            "Requirement already satisfied: charset-normalizer<4,>=2 in /usr/local/lib/python3.10/dist-packages (from requests->huggingface-hub>=0.4.0->sentence-transformers>=0.3.8->keybert) (3.2.0)\n",
            "Requirement already satisfied: idna<4,>=2.5 in /usr/local/lib/python3.10/dist-packages (from requests->huggingface-hub>=0.4.0->sentence-transformers>=0.3.8->keybert) (3.4)\n",
            "Requirement already satisfied: urllib3<3,>=1.21.1 in /usr/local/lib/python3.10/dist-packages (from requests->huggingface-hub>=0.4.0->sentence-transformers>=0.3.8->keybert) (2.0.4)\n",
            "Requirement already satisfied: certifi>=2017.4.17 in /usr/local/lib/python3.10/dist-packages (from requests->huggingface-hub>=0.4.0->sentence-transformers>=0.3.8->keybert) (2023.7.22)\n",
            "Requirement already satisfied: mpmath>=0.19 in /usr/local/lib/python3.10/dist-packages (from sympy->torch>=1.6.0->sentence-transformers>=0.3.8->keybert) (1.3.0)\n"
          ]
        }
      ],
      "source": [
        "pip install keybert"
      ]
    },
    {
      "cell_type": "code",
      "execution_count": 4,
      "metadata": {
        "colab": {
          "base_uri": "https://localhost:8080/"
        },
        "id": "ChkRvZQi5Ccd",
        "outputId": "19756902-3c0e-43c8-c4d0-959b35288abd"
      },
      "outputs": [
        {
          "name": "stdout",
          "output_type": "stream",
          "text": [
            "{\n",
            "    \"query\": [\n",
            "        \"cctv installation\",\n",
            "        \"cost from\",\n",
            "        \"20 cost\"\n",
            "    ],\n",
            "    \"startDate\": \"2023-03-10\",\n",
            "    \"endDate\": \"2023-04-20\",\n",
            "    \"Range\": [\n",
            "        5000,\n",
            "        7000\n",
            "    ],\n",
            "    \"typeOfWork\": \"Goods and Services\"\n",
            "}\n"
          ]
        }
      ],
      "source": [
        "from keybert import KeyBERT\n",
        "import re\n",
        "import dateutil.parser\n",
        "import spacy\n",
        "import json\n",
        "\n",
        "# Sample text\n",
        "doc = \"\"\"CCTV installation having Goods and Services from 2023-03-10 to 2023-04-20 cost from $5000 to $7000 \"\"\"\n",
        "\n",
        "# Load spaCy's English language model\n",
        "nlp = spacy.load(\"en_core_web_sm\")\n",
        "\n",
        "# Initialize KeyBERT model\n",
        "kw_model = KeyBERT()\n",
        "\n",
        "# Extract keywords\n",
        "keywords = kw_model.extract_keywords(doc, keyphrase_ngram_range=(1, 2), stop_words=None)\n",
        "\n",
        "# Initialize lists to store extracted dates and prices\n",
        "dates = []\n",
        "prices = []\n",
        "\n",
        "# Regular expressions for extracting date patterns (yyyy-mm-dd), codes, and prices\n",
        "date_pattern = r'\\d{4}-\\d{2}-\\d{2}'\n",
        "price_pattern = r'\\$\\d+(?:,\\d{3})*(?:\\.\\d{2})?'  # Matches currency values (e.g., $5,000.00 or $5000)\n",
        "\n",
        "# Filter keywords based on length and exclusion patterns (dates and prices)\n",
        "filtered_keywords = [keyword for keyword, _ in keywords if len(keyword.split()) > 1 and not (re.search(date_pattern, keyword) or re.search(price_pattern, keyword))]\n",
        "\n",
        "# Extract dates using dateutil\n",
        "date_strings = re.findall(date_pattern, doc)\n",
        "\n",
        "# Assuming the first date in the list is the start date and the second date is the end date\n",
        "if len(date_strings) >= 2:\n",
        "    start_date = dateutil.parser.parse(date_strings[0]).strftime('%Y-%m-%d')\n",
        "    end_date = dateutil.parser.parse(date_strings[1]).strftime('%Y-%m-%d')\n",
        "\n",
        "# Extract prices using regular expressions\n",
        "price_strings = re.findall(price_pattern, doc)\n",
        "# Remove '$' from prices and store them in the 'prices' list\n",
        "for price_str in price_strings:\n",
        "    price = int(price_str.replace('$', '').replace(',', ''))\n",
        "    prices.append(price)\n",
        "\n",
        "# Convert the text to lowercase for case-insensitive matching\n",
        "doc_lower = doc.lower()\n",
        "\n",
        "# Initialize type of work as an empty string\n",
        "work_type = \"\"\n",
        "\n",
        "# Check if \"Goods and Services\" appears in the user input\n",
        "if \"goods and services\" in doc_lower:\n",
        "    work_type = \"Goods and Services\"\n",
        "\n",
        "# Check if \"Works\" appears in the user input\n",
        "elif \"works\" in doc_lower:\n",
        "    work_type = \"Works\"\n",
        "\n",
        "# Create a dictionary to store the extracted information\n",
        "result_dict = {\n",
        "    \"query\": filtered_keywords,\n",
        "    \"startDate\": start_date,\n",
        "    \"endDate\": end_date,\n",
        "    \"Range\": prices,\n",
        "    \"typeOfWork\": work_type\n",
        "}\n",
        "\n",
        "# Convert the dictionary to a JSON string\n",
        "result_json = json.dumps(result_dict, indent=4)\n",
        "\n",
        "# Print the JSON string\n",
        "print(result_json)"
      ]
    }
  ],
  "metadata": {
    "colab": {
      "provenance": []
    },
    "kernelspec": {
      "display_name": "Python 3",
      "name": "python3"
    },
    "language_info": {
      "name": "python"
    }
  },
  "nbformat": 4,
  "nbformat_minor": 0
}
