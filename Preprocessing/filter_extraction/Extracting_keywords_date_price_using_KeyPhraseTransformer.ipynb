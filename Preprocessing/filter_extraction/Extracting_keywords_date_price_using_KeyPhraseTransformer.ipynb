{
  "cells": [
    {
      "cell_type": "markdown",
      "metadata": {
        "id": "mmcFQgU4s5F3"
      },
      "source": [
        "**HAVING keyphrasetransformer WITH REGULAR EXTRACTION**\n",
        "\n",
        "For 'First API' extracting following - query, startDate, endDate, Range, typeOfWork,UNSPSC"
      ]
    },
    {
      "cell_type": "markdown",
      "metadata": {
        "id": "cAjV3-9Cs-Qx"
      },
      "source": [
        "***Installing required libraries***"
      ]
    },
    {
      "cell_type": "code",
      "execution_count": 8,
      "metadata": {
        "colab": {
          "base_uri": "https://localhost:8080/"
        },
        "id": "mDy9dF7ZrIag",
        "outputId": "bcbb683e-c67d-4c61-edde-3f35ff134a12"
      },
      "outputs": [
        {
          "name": "stdout",
          "output_type": "stream",
          "text": [
            "Requirement already satisfied: keyphrasetransformer in /usr/local/lib/python3.10/dist-packages (0.0.2)\n",
            "Requirement already satisfied: nltk in /usr/local/lib/python3.10/dist-packages (from keyphrasetransformer) (3.8.1)\n",
            "Requirement already satisfied: transformers in /usr/local/lib/python3.10/dist-packages (from keyphrasetransformer) (4.33.3)\n",
            "Requirement already satisfied: click in /usr/local/lib/python3.10/dist-packages (from nltk->keyphrasetransformer) (8.1.7)\n",
            "Requirement already satisfied: joblib in /usr/local/lib/python3.10/dist-packages (from nltk->keyphrasetransformer) (1.3.2)\n",
            "Requirement already satisfied: regex>=2021.8.3 in /usr/local/lib/python3.10/dist-packages (from nltk->keyphrasetransformer) (2023.6.3)\n",
            "Requirement already satisfied: tqdm in /usr/local/lib/python3.10/dist-packages (from nltk->keyphrasetransformer) (4.66.1)\n",
            "Requirement already satisfied: filelock in /usr/local/lib/python3.10/dist-packages (from transformers->keyphrasetransformer) (3.12.2)\n",
            "Requirement already satisfied: huggingface-hub<1.0,>=0.15.1 in /usr/local/lib/python3.10/dist-packages (from transformers->keyphrasetransformer) (0.17.3)\n",
            "Requirement already satisfied: numpy>=1.17 in /usr/local/lib/python3.10/dist-packages (from transformers->keyphrasetransformer) (1.23.5)\n",
            "Requirement already satisfied: packaging>=20.0 in /usr/local/lib/python3.10/dist-packages (from transformers->keyphrasetransformer) (23.1)\n",
            "Requirement already satisfied: pyyaml>=5.1 in /usr/local/lib/python3.10/dist-packages (from transformers->keyphrasetransformer) (6.0.1)\n",
            "Requirement already satisfied: requests in /usr/local/lib/python3.10/dist-packages (from transformers->keyphrasetransformer) (2.31.0)\n",
            "Requirement already satisfied: tokenizers!=0.11.3,<0.14,>=0.11.1 in /usr/local/lib/python3.10/dist-packages (from transformers->keyphrasetransformer) (0.13.3)\n",
            "Requirement already satisfied: safetensors>=0.3.1 in /usr/local/lib/python3.10/dist-packages (from transformers->keyphrasetransformer) (0.3.3)\n",
            "Requirement already satisfied: fsspec in /usr/local/lib/python3.10/dist-packages (from huggingface-hub<1.0,>=0.15.1->transformers->keyphrasetransformer) (2023.6.0)\n",
            "Requirement already satisfied: typing-extensions>=3.7.4.3 in /usr/local/lib/python3.10/dist-packages (from huggingface-hub<1.0,>=0.15.1->transformers->keyphrasetransformer) (4.5.0)\n",
            "Requirement already satisfied: charset-normalizer<4,>=2 in /usr/local/lib/python3.10/dist-packages (from requests->transformers->keyphrasetransformer) (3.2.0)\n",
            "Requirement already satisfied: idna<4,>=2.5 in /usr/local/lib/python3.10/dist-packages (from requests->transformers->keyphrasetransformer) (3.4)\n",
            "Requirement already satisfied: urllib3<3,>=1.21.1 in /usr/local/lib/python3.10/dist-packages (from requests->transformers->keyphrasetransformer) (2.0.4)\n",
            "Requirement already satisfied: certifi>=2017.4.17 in /usr/local/lib/python3.10/dist-packages (from requests->transformers->keyphrasetransformer) (2023.7.22)\n"
          ]
        }
      ],
      "source": [
        "pip install keyphrasetransformer"
      ]
    },
    {
      "cell_type": "markdown",
      "metadata": {
        "id": "BYwSelsstNhE"
      },
      "source": [
        "***Function - \"extract_info\"***"
      ]
    },
    {
      "cell_type": "code",
      "execution_count": 9,
      "metadata": {
        "id": "ys1QRrDdqwR1"
      },
      "outputs": [],
      "source": [
        "from keyphrasetransformer import KeyPhraseTransformer\n",
        "import re\n",
        "import dateutil.parser\n",
        "import spacy\n",
        "import json\n",
        "\n",
        "def extract_info(doc):\n",
        "    # Load spaCy's English language model\n",
        "    nlp = spacy.load(\"en_core_web_sm\")\n",
        "\n",
        "    # Initialize KeyPhraseTransformer\n",
        "    kp = KeyPhraseTransformer()\n",
        "\n",
        "    # Initialize lists to store extracted dates and prices\n",
        "    dates = []\n",
        "    prices = []\n",
        "    codes = []\n",
        "\n",
        "    # Regular expressions for extracting date patterns (yyyy-mm-dd), codes, and prices\n",
        "    date_pattern = r'\\d{4}-\\d{2}-\\d{2}'\n",
        "    price_pattern = r'\\$\\d+(?:,\\d{3})*(?:\\.\\d{2})?'  # Matches currency values (e.g., $5,000.00 or $5000)\n",
        "    code_pattern = r'\\d{8}(?:,\\s*\\d{8})*'  # Matches one or more 8-digit codes separated by commas\n",
        "\n",
        "    # Extract dates using dateutil\n",
        "    date_strings = re.findall(date_pattern, doc)\n",
        "\n",
        "    # Initialize start_date and end_date as None\n",
        "    start_date = None\n",
        "    end_date = None\n",
        "\n",
        "    # Checking which should be start date and end date\n",
        "    if len(date_strings) >= 2:\n",
        "        date1 = dateutil.parser.parse(date_strings[0])\n",
        "        date2 = dateutil.parser.parse(date_strings[1])\n",
        "\n",
        "        if date1 < date2:\n",
        "            start_date = date1.strftime('%Y-%m-%d')\n",
        "            end_date = date2.strftime('%Y-%m-%d')\n",
        "        else:\n",
        "            start_date = date2.strftime('%Y-%m-%d')\n",
        "            end_date = date1.strftime('%Y-%m-%d')\n",
        "    elif len(date_strings) == 1:\n",
        "        # If only one date is given, assume it as the 'start_date'\n",
        "        start_date = dateutil.parser.parse(date_strings[0]).strftime('%Y-%m-%d')\n",
        "\n",
        "    # Extract UNSPSC codes using regular expressions\n",
        "    code_strings = re.findall(code_pattern, doc)\n",
        "    for code_str in code_strings:\n",
        "        codes.extend([code.strip('\"') for code in code_str.split(', ')])\n",
        "\n",
        "    # Extract prices using regular expressions\n",
        "    price_strings = re.findall(price_pattern, doc)\n",
        "    # Checking which is the highest and lowest range\n",
        "    if len(price_strings) >= 2:\n",
        "        price1 = int(price_strings[0].replace('$', '').replace(',', ''))\n",
        "        price2 = int(price_strings[1].replace('$', '').replace(',', ''))\n",
        "        # Determine the lowest and highest values\n",
        "        if price1 < price2:\n",
        "            start_price = price1\n",
        "            end_price = price2\n",
        "            prices = [start_price, end_price]\n",
        "        else:\n",
        "            start_price = price2\n",
        "            end_price = price1\n",
        "            prices = [start_price, end_price]\n",
        "    elif len(price_strings) == 1:\n",
        "        # If only one price is given, assume it as the 'start_price'\n",
        "        start_price = int(price_strings[0].replace('$', '').replace(',', ''))\n",
        "        prices = [start_price]\n",
        "\n",
        "    # Convert the text to lowercase for case-insensitive matching\n",
        "    doc_lower = doc.lower()\n",
        "\n",
        "    # Initialize type of work as an empty string\n",
        "    work_type = \"\"\n",
        "\n",
        "    # Check if \"Goods and Services\" appears in the user input\n",
        "    if \"goods and services\" in doc_lower:\n",
        "        work_type = \"Goods and Services\"\n",
        "\n",
        "    # Check if \"Works\" appears in the user input\n",
        "    elif \"works\" in doc_lower:\n",
        "        work_type = \"Works\"\n",
        "\n",
        "    # Exclude patterns by replacing them with spaces\n",
        "    doc = re.sub(date_pattern, ' ', doc)\n",
        "    doc = re.sub(price_pattern, ' ', doc)\n",
        "    doc = re.sub(code_pattern, ' ', doc)\n",
        "\n",
        "    # Extract keywords and returning only the first keyword\n",
        "    keywords = kp.get_key_phrases(doc)\n",
        "    first_keyword = keywords[0] if keywords else None\n",
        "\n",
        "    # Create a dictionary to store the extracted information\n",
        "    result_dict = {\n",
        "        \"query\": first_keyword,\n",
        "        \"startDate\": start_date,\n",
        "        \"endDate\": end_date,\n",
        "        \"Range\": prices,\n",
        "        \"typeOfWork\": work_type,\n",
        "        \"UNSPSCcode\": [int(code) for code in codes]\n",
        "    }\n",
        "\n",
        "    # Convert the dictionary to a JSON string\n",
        "    result_json = json.dumps(result_dict, indent=4)\n",
        "\n",
        "    return result_json"
      ]
    },
    {
      "cell_type": "markdown",
      "metadata": {
        "id": "yLFKjo6KtUze"
      },
      "source": [
        "***calling the function***"
      ]
    },
    {
      "cell_type": "code",
      "execution_count": 10,
      "metadata": {
        "colab": {
          "base_uri": "https://localhost:8080/"
        },
        "id": "4B54FSPQq85R",
        "outputId": "f52427ab-d052-4e5d-ab27-bf7aafbd8a89"
      },
      "outputs": [
        {
          "name": "stdout",
          "output_type": "stream",
          "text": [
            "{\n",
            "    \"query\": \"cctv contracts\",\n",
            "    \"startDate\": \"2023-03-10\",\n",
            "    \"endDate\": \"2023-04-20\",\n",
            "    \"Range\": [\n",
            "        5000,\n",
            "        7000\n",
            "    ],\n",
            "    \"typeOfWork\": \"Goods and Services\",\n",
            "    \"UNSPSCcode\": [\n",
            "        80172000,\n",
            "        80101513,\n",
            "        41102614\n",
            "    ]\n",
            "}\n"
          ]
        }
      ],
      "source": [
        "# Input to Function\n",
        "doc = \"\"\"CCTV contracts having Goods and Services from 2023-03-10 to 2023-04-20 cost from $5000 to $7000 with UNSPSC Code 80172000, 80101513, 41102614\"\"\"\n",
        "result = extract_info(doc)\n",
        "print(result)"
      ]
    }
  ],
  "metadata": {
    "colab": {
      "provenance": []
    },
    "kernelspec": {
      "display_name": "Python 3",
      "name": "python3"
    },
    "language_info": {
      "name": "python"
    }
  },
  "nbformat": 4,
  "nbformat_minor": 0
}
