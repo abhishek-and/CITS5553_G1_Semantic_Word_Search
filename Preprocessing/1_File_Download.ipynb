{
 "cells": [
  {
   "cell_type": "code",
   "execution_count": 3,
   "id": "158e73ed",
   "metadata": {},
   "outputs": [],
   "source": [
    "import os\n",
    "import pandas as pd\n",
    "import numpy as np\n",
    "import warnings\n",
    "from collections import defaultdict\n",
    "from datetime import datetime, date, timedelta\n",
    "import calendar\n",
    "import traceback\n",
    "\n",
    "dataset = pd.read_excel('Contracts_Dataset.xlsx', dtype=str)\n"
   ]
  },
  {
   "cell_type": "code",
   "execution_count": 7,
   "id": "dca2c6ce",
   "metadata": {},
   "outputs": [
    {
     "name": "stdout",
     "output_type": "stream",
     "text": [
      "6296\n",
      "3326\n",
      "3321\n",
      "100\n"
     ]
    }
   ],
   "source": [
    "from selenium import webdriver\n",
    "from selenium.webdriver.common.by import By\n",
    "from selenium.webdriver.common.keys import Keys\n",
    "from selenium.webdriver.support.ui import WebDriverWait\n",
    "from selenium.webdriver.support import expected_conditions as EC\n",
    "from selenium.webdriver.chrome.options import Options\n",
    "import time\n",
    "\n",
    "# Get all the rows that have Tender Links\n",
    "tender_link_rows = dataset[dataset['TenderLink'].notna()]\n",
    "print(tender_link_rows.shape[0])\n",
    "print(tender_link_rows['Reference Number'].nunique())\n",
    "print(tender_link_rows['TenderLink'].nunique())\n",
    "\n",
    "base_download_dir = r\"C:\\Users\\aanand\\OneDrive - Intel Corporation\\Desktop\\Misc\\TenderFiles\"\n",
    "unique_tender_links = tender_link_rows['TenderLink'].unique()\n",
    "\n",
    "\n",
    "counter = 0\n",
    "\n",
    "# Wait for the file to appear in the download directory\n",
    "timeout = 60  # Set a reasonable timeout in seconds\n",
    "downloaded = False\n",
    "\n",
    "for one_tender_link in unique_tender_links:\n",
    "    try:\n",
    "        \n",
    "        # Find the matching reference number - will be used to create folders\n",
    "        reference_number = tender_link_rows[tender_link_rows['TenderLink'] == one_tender_link]['Reference Number'].iloc[0]\n",
    "        #download_dir = os.path.join(base_download_dir, reference_number)\n",
    "        download_dir = base_download_dir\n",
    "\n",
    "        chrome_options = Options()\n",
    "        chrome_options.add_argument(\"--headless\")\n",
    "        chrome_options.add_argument(\"--disable-gpu\")\n",
    "        \n",
    "        prefs = {\"download.default_directory\": download_dir}\n",
    "        chrome_options.add_experimental_option(\"prefs\", prefs)\n",
    "\n",
    "        driver = webdriver.Chrome(options=chrome_options)\n",
    "\n",
    "        driver.get(one_tender_link)\n",
    "        \n",
    "        link_text = 'Download Now'\n",
    "        link_element = driver.find_element(By.LINK_TEXT, link_text)\n",
    "\n",
    "        # Click on the <a> element\n",
    "        link_element.click()\n",
    "\n",
    "        button = driver.find_element(By.CLASS_NAME, \"BUTTON\")\n",
    "        button.click()\n",
    "\n",
    "\n",
    "        button = driver.find_element(By.CLASS_NAME, \"SUBMIT\")\n",
    "\n",
    "        start_time = time.time()\n",
    "        button.click()\n",
    "        \n",
    "        time.sleep(2)\n",
    "        \n",
    "        # Wait for the file to download (adjust the time as needed)\n",
    "        while time.time() - start_time < timeout:\n",
    "            files = os.listdir(download_dir)  # Replace with the actual download directory\n",
    "            if any(file.endswith('.crdownload') for file in files):\n",
    "                time.sleep(1)  # Wait a bit before checking again\n",
    "            else:\n",
    "                break\n",
    "        \n",
    "        counter += 1\n",
    "        if counter % 100 == 0:\n",
    "            print(counter)\n",
    "\n",
    "    except:\n",
    "        print(one_tender_link)\n",
    "        continue\n",
    "    finally:\n",
    "        driver.quit()\n"
   ]
  },
  {
   "cell_type": "code",
   "execution_count": null,
   "id": "56121223",
   "metadata": {},
   "outputs": [],
   "source": []
  }
 ],
 "metadata": {
  "kernelspec": {
   "display_name": "Python 3 (ipykernel)",
   "language": "python",
   "name": "python3"
  },
  "language_info": {
   "codemirror_mode": {
    "name": "ipython",
    "version": 3
   },
   "file_extension": ".py",
   "mimetype": "text/x-python",
   "name": "python",
   "nbconvert_exporter": "python",
   "pygments_lexer": "ipython3",
   "version": "3.8.5"
  }
 },
 "nbformat": 4,
 "nbformat_minor": 5
}
