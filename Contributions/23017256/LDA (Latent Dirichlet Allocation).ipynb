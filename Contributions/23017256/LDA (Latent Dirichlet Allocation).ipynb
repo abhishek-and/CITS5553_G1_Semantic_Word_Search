{
 "cells": [
  {
   "cell_type": "markdown",
   "id": "3ab39d9c",
   "metadata": {},
   "source": [
    "Install libraries "
   ]
  },
  {
   "cell_type": "code",
   "execution_count": 1,
   "id": "4f79fc59",
   "metadata": {},
   "outputs": [],
   "source": [
    "import pandas as pd\n",
    "import json\n",
    "from nltk import word_tokenize\n",
    "from sklearn.feature_extraction.text import CountVectorizer\n",
    "from sklearn.decomposition import LatentDirichletAllocation\n",
    "import numpy as np"
   ]
  },
  {
   "cell_type": "markdown",
   "id": "3ea9543b",
   "metadata": {},
   "source": [
    "Import libraries "
   ]
  },
  {
   "cell_type": "code",
   "execution_count": 2,
   "id": "fb9adf23",
   "metadata": {},
   "outputs": [],
   "source": [
    "def calculate_document_scores(query_word, dataset_path, num_topics=10):\n",
    "    # Load your dataset\n",
    "    df = pd.read_csv(dataset_path, encoding='utf-8')\n",
    "\n",
    "    # Initialize result lists for reference numbers and similarity scores\n",
    "    reference_numbers = []\n",
    "    similarity_scores = []\n",
    "\n",
    "    for index, row in df.iterrows():\n",
    "        columns_to_concat = ['Contract Title', 'Description', 'Tenders Content']  # Add your column names here\n",
    "        non_empty_values = []\n",
    "\n",
    "        for column in columns_to_concat:\n",
    "            column_values = row[column]\n",
    "            if not pd.isna(column_values) and column_values.strip():\n",
    "                non_empty_values.append(column_values)\n",
    "\n",
    "        if non_empty_values:\n",
    "            text_data = \" \".join(non_empty_values)\n",
    "\n",
    "            # Tokenize the concatenated text data\n",
    "            tokenized_words = word_tokenize(text_data)\n",
    "\n",
    "            # Tokenize and preprocess the text data\n",
    "            document = \" \".join(tokenized_words)\n",
    "\n",
    "            # Create a CountVectorizer\n",
    "            count_vectorizer = CountVectorizer()\n",
    "            count_data = count_vectorizer.fit_transform([document])\n",
    "\n",
    "            # Create an LDA model\n",
    "            lda = LatentDirichletAllocation(n_components=num_topics, random_state=0)  # Adjust num_topics as needed\n",
    "\n",
    "            # Fit the LDA model to the data\n",
    "            lda.fit(count_data)\n",
    "\n",
    "            # Get the topics and their word distributions\n",
    "            topics = lda.components_\n",
    "\n",
    "            # Calculate semantic scores based on the topics\n",
    "            topic_scores = lda.transform(count_data)\n",
    "\n",
    "            # Select the topic with the highest score for the query word\n",
    "            word_topic = topic_scores[0].argmax()\n",
    "\n",
    "            # Calculate semantic scores for the query word based on its assigned topic\n",
    "            semantic_score = topic_scores[0][word_topic]\n",
    "\n",
    "            reference_numbers.append(row['Reference Number'])\n",
    "            similarity_scores.append(semantic_score)\n",
    "\n",
    "    # Initialize an output list to hold dictionaries for each reference number\n",
    "    output_list = []\n",
    "\n",
    "    # Iterate through reference numbers and associated values\n",
    "    for ref_num, sim_score in zip(reference_numbers, similarity_scores):\n",
    "        ref_values = {\n",
    "            \"Client Agency\": str(df.loc[df['Reference Number'] == ref_num]['Client Agency'].values[0]),\n",
    "            \"Contract Title\": str(df.loc[df['Reference Number'] == ref_num]['Contract Title'].values[0]),\n",
    "            \"Procurement Method\": str(df.loc[df['Reference Number'] == ref_num]['Procurement Method'].values[0]),\n",
    "            \"Reference Number\": ref_num,\n",
    "            \"Revised Contract Value\": float(df.loc[df['Reference Number'] == ref_num]['Revised Contract Value'].values[0]),\n",
    "            \"Supplier Name\": str(df.loc[df['Reference Number'] == ref_num]['Supplier Name'].values[0]),\n",
    "            \"Tender Closing Date\": str(df.loc[df['Reference Number'] == ref_num]['Tender Closing Date'].values[0]),\n",
    "            \"Type of Work\": str(df.loc[df['Reference Number'] == ref_num]['Type of Work'].values[0]),\n",
    "            \"UNSPSC Code\": int(df.loc[df['Reference Number'] == ref_num]['UNSPSC Code'].values[0]),\n",
    "            \"UNSPSC Title\": str(df.loc[df['Reference Number'] == ref_num]['UNSPSC Title'].values[0]),\n",
    "            \"Similarity Score\": float(sim_score),  # Convert to float for JSON serialization\n",
    "        }\n",
    "        output_list.append(ref_values)\n",
    "\n",
    "    return json.dumps(output_list, indent=2)"
   ]
  },
  {
   "cell_type": "code",
   "execution_count": 3,
   "id": "f10ce439",
   "metadata": {},
   "outputs": [
    {
     "name": "stdout",
     "output_type": "stream",
     "text": [
      "[\n",
      "  {\n",
      "    \"Client Agency\": \"Programmed Facility Management\",\n",
      "    \"Contract Title\": \"PB Maintenance Security Screen Upgrade\",\n",
      "    \"Procurement Method\": \"Open Advertisement\",\n",
      "    \"Reference Number\": \"HOU136\",\n",
      "    \"Revised Contract Value\": 1.0,\n",
      "    \"Supplier Name\": \"Profix Australia\",\n",
      "    \"Tender Closing Date\": \"4/12/2023 0:00\",\n",
      "    \"Type of Work\": \"Works\",\n",
      "    \"UNSPSC Code\": 72100000,\n",
      "    \"UNSPSC Title\": \"Building and facility maintenance and repair services\",\n",
      "    \"Similarity Score\": 0.9997711088177327\n",
      "  },\n",
      "  {\n",
      "    \"Client Agency\": \"Department of Education\",\n",
      "    \"Contract Title\": \"Department of Education - Geraldton Residential College - CCTV Upgrade\",\n",
      "    \"Procurement Method\": \"Open Advertisement\",\n",
      "    \"Reference Number\": \"FINW0737022\",\n",
      "    \"Revised Contract Value\": 115583.0,\n",
      "    \"Supplier Name\": \"Incite Security Pty Ltd\",\n",
      "    \"Tender Closing Date\": \"3/10/2023 0:00\",\n",
      "    \"Type of Work\": \"Works\",\n",
      "    \"UNSPSC Code\": 92121700,\n",
      "    \"UNSPSC Title\": \"Security systems services\",\n",
      "    \"Similarity Score\": 0.9997664157467024\n",
      "  }\n",
      "]\n"
     ]
    }
   ],
   "source": [
    "# Example usage\n",
    "query_word = \"CCTV\"\n",
    "dataset_path = \"extract_try.csv\"  # Replace with your dataset path\n",
    "semantic_scores_json = calculate_document_scores(query_word, dataset_path)\n",
    "print(semantic_scores_json)"
   ]
  },
  {
   "cell_type": "code",
   "execution_count": null,
   "id": "543d22b2",
   "metadata": {},
   "outputs": [],
   "source": []
  },
  {
   "cell_type": "code",
   "execution_count": null,
   "id": "1454937b",
   "metadata": {},
   "outputs": [],
   "source": []
  }
 ],
 "metadata": {
  "kernelspec": {
   "display_name": "Python 3 (ipykernel)",
   "language": "python",
   "name": "python3"
  },
  "language_info": {
   "codemirror_mode": {
    "name": "ipython",
    "version": 3
   },
   "file_extension": ".py",
   "mimetype": "text/x-python",
   "name": "python",
   "nbconvert_exporter": "python",
   "pygments_lexer": "ipython3",
   "version": "3.9.7"
  }
 },
 "nbformat": 4,
 "nbformat_minor": 5
}
