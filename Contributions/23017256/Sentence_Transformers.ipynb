{
 "cells": [
  {
   "cell_type": "code",
   "execution_count": 1,
   "id": "ffc1bbc2",
   "metadata": {},
   "outputs": [
    {
     "name": "stdout",
     "output_type": "stream",
     "text": [
      "Requirement already satisfied: transformers in d:\\anaconda\\lib\\site-packages (4.33.1)\n",
      "Requirement already satisfied: packaging>=20.0 in d:\\anaconda\\lib\\site-packages (from transformers) (21.0)\n",
      "Requirement already satisfied: pyyaml>=5.1 in d:\\anaconda\\lib\\site-packages (from transformers) (6.0)\n",
      "Requirement already satisfied: filelock in c:\\users\\rashi\\appdata\\roaming\\python\\python39\\site-packages (from transformers) (3.12.3)\n",
      "Requirement already satisfied: tqdm>=4.27 in d:\\anaconda\\lib\\site-packages (from transformers) (4.62.3)\n",
      "Requirement already satisfied: regex!=2019.12.17 in d:\\anaconda\\lib\\site-packages (from transformers) (2021.8.3)\n",
      "Requirement already satisfied: requests in d:\\anaconda\\lib\\site-packages (from transformers) (2.26.0)\n",
      "Requirement already satisfied: tokenizers!=0.11.3,<0.14,>=0.11.1 in d:\\anaconda\\lib\\site-packages (from transformers) (0.13.3)\n",
      "Requirement already satisfied: huggingface-hub<1.0,>=0.15.1 in d:\\anaconda\\lib\\site-packages (from transformers) (0.16.4)\n",
      "Requirement already satisfied: safetensors>=0.3.1 in d:\\anaconda\\lib\\site-packages (from transformers) (0.3.3)\n",
      "Requirement already satisfied: numpy>=1.17 in d:\\anaconda\\lib\\site-packages (from transformers) (1.22.4)\n",
      "Requirement already satisfied: typing-extensions>=3.7.4.3 in c:\\users\\rashi\\appdata\\roaming\\python\\python39\\site-packages (from huggingface-hub<1.0,>=0.15.1->transformers) (4.7.1)\n",
      "Requirement already satisfied: fsspec in d:\\anaconda\\lib\\site-packages (from huggingface-hub<1.0,>=0.15.1->transformers) (2021.10.1)\n",
      "Requirement already satisfied: pyparsing>=2.0.2 in d:\\anaconda\\lib\\site-packages (from packaging>=20.0->transformers) (3.0.4)\n",
      "Requirement already satisfied: colorama in d:\\anaconda\\lib\\site-packages (from tqdm>=4.27->transformers) (0.4.6)\n",
      "Requirement already satisfied: urllib3<1.27,>=1.21.1 in d:\\anaconda\\lib\\site-packages (from requests->transformers) (1.26.7)\n",
      "Requirement already satisfied: charset-normalizer~=2.0.0 in d:\\anaconda\\lib\\site-packages (from requests->transformers) (2.0.4)\n",
      "Requirement already satisfied: certifi>=2017.4.17 in d:\\anaconda\\lib\\site-packages (from requests->transformers) (2023.7.22)\n",
      "Requirement already satisfied: idna<4,>=2.5 in d:\\anaconda\\lib\\site-packages (from requests->transformers) (3.2)\n",
      "Requirement already satisfied: sentence-transformers in d:\\anaconda\\lib\\site-packages (2.2.2)\n",
      "Requirement already satisfied: transformers<5.0.0,>=4.6.0 in d:\\anaconda\\lib\\site-packages (from sentence-transformers) (4.33.1)\n",
      "Requirement already satisfied: scipy in d:\\anaconda\\lib\\site-packages (from sentence-transformers) (1.7.1)\n",
      "Requirement already satisfied: huggingface-hub>=0.4.0 in d:\\anaconda\\lib\\site-packages (from sentence-transformers) (0.16.4)\n",
      "Requirement already satisfied: torch>=1.6.0 in c:\\users\\rashi\\appdata\\roaming\\python\\python39\\site-packages (from sentence-transformers) (2.0.1)\n",
      "Requirement already satisfied: sentencepiece in d:\\anaconda\\lib\\site-packages (from sentence-transformers) (0.1.99)\n",
      "Requirement already satisfied: numpy in d:\\anaconda\\lib\\site-packages (from sentence-transformers) (1.22.4)\n",
      "Requirement already satisfied: tqdm in d:\\anaconda\\lib\\site-packages (from sentence-transformers) (4.62.3)\n",
      "Requirement already satisfied: scikit-learn in d:\\anaconda\\lib\\site-packages (from sentence-transformers) (0.24.2)\n",
      "Requirement already satisfied: nltk in d:\\anaconda\\lib\\site-packages (from sentence-transformers) (3.6.5)\n",
      "Requirement already satisfied: torchvision in d:\\anaconda\\lib\\site-packages (from sentence-transformers) (0.15.2)\n",
      "Requirement already satisfied: filelock in c:\\users\\rashi\\appdata\\roaming\\python\\python39\\site-packages (from huggingface-hub>=0.4.0->sentence-transformers) (3.12.3)\n",
      "Requirement already satisfied: requests in d:\\anaconda\\lib\\site-packages (from huggingface-hub>=0.4.0->sentence-transformers) (2.26.0)\n",
      "Requirement already satisfied: typing-extensions>=3.7.4.3 in c:\\users\\rashi\\appdata\\roaming\\python\\python39\\site-packages (from huggingface-hub>=0.4.0->sentence-transformers) (4.7.1)\n",
      "Requirement already satisfied: fsspec in d:\\anaconda\\lib\\site-packages (from huggingface-hub>=0.4.0->sentence-transformers) (2021.10.1)\n",
      "Requirement already satisfied: pyyaml>=5.1 in d:\\anaconda\\lib\\site-packages (from huggingface-hub>=0.4.0->sentence-transformers) (6.0)\n",
      "Requirement already satisfied: packaging>=20.9 in d:\\anaconda\\lib\\site-packages (from huggingface-hub>=0.4.0->sentence-transformers) (21.0)\n",
      "Requirement already satisfied: pyparsing>=2.0.2 in d:\\anaconda\\lib\\site-packages (from packaging>=20.9->huggingface-hub>=0.4.0->sentence-transformers) (3.0.4)\n",
      "Requirement already satisfied: jinja2 in c:\\users\\rashi\\appdata\\roaming\\python\\python39\\site-packages (from torch>=1.6.0->sentence-transformers) (3.1.2)\n",
      "Requirement already satisfied: sympy in c:\\users\\rashi\\appdata\\roaming\\python\\python39\\site-packages (from torch>=1.6.0->sentence-transformers) (1.12)\n",
      "Requirement already satisfied: networkx in c:\\users\\rashi\\appdata\\roaming\\python\\python39\\site-packages (from torch>=1.6.0->sentence-transformers) (3.1)\n",
      "Requirement already satisfied: colorama in d:\\anaconda\\lib\\site-packages (from tqdm->sentence-transformers) (0.4.6)\n",
      "Requirement already satisfied: tokenizers!=0.11.3,<0.14,>=0.11.1 in d:\\anaconda\\lib\\site-packages (from transformers<5.0.0,>=4.6.0->sentence-transformers) (0.13.3)\n",
      "Requirement already satisfied: safetensors>=0.3.1 in d:\\anaconda\\lib\\site-packages (from transformers<5.0.0,>=4.6.0->sentence-transformers) (0.3.3)\n",
      "Requirement already satisfied: regex!=2019.12.17 in d:\\anaconda\\lib\\site-packages (from transformers<5.0.0,>=4.6.0->sentence-transformers) (2021.8.3)\n",
      "Requirement already satisfied: MarkupSafe>=2.0 in c:\\users\\rashi\\appdata\\roaming\\python\\python39\\site-packages (from jinja2->torch>=1.6.0->sentence-transformers) (2.1.3)\n",
      "Requirement already satisfied: click in d:\\anaconda\\lib\\site-packages (from nltk->sentence-transformers) (8.0.3)\n",
      "Requirement already satisfied: joblib in d:\\anaconda\\lib\\site-packages (from nltk->sentence-transformers) (1.1.0)\n",
      "Requirement already satisfied: idna<4,>=2.5 in d:\\anaconda\\lib\\site-packages (from requests->huggingface-hub>=0.4.0->sentence-transformers) (3.2)\n",
      "Requirement already satisfied: urllib3<1.27,>=1.21.1 in d:\\anaconda\\lib\\site-packages (from requests->huggingface-hub>=0.4.0->sentence-transformers) (1.26.7)\n",
      "Requirement already satisfied: certifi>=2017.4.17 in d:\\anaconda\\lib\\site-packages (from requests->huggingface-hub>=0.4.0->sentence-transformers) (2023.7.22)\n",
      "Requirement already satisfied: charset-normalizer~=2.0.0 in d:\\anaconda\\lib\\site-packages (from requests->huggingface-hub>=0.4.0->sentence-transformers) (2.0.4)\n",
      "Requirement already satisfied: threadpoolctl>=2.0.0 in d:\\anaconda\\lib\\site-packages (from scikit-learn->sentence-transformers) (2.2.0)\n",
      "Requirement already satisfied: mpmath>=0.19 in c:\\users\\rashi\\appdata\\roaming\\python\\python39\\site-packages (from sympy->torch>=1.6.0->sentence-transformers) (1.3.0)\n",
      "Requirement already satisfied: pillow!=8.3.*,>=5.3.0 in d:\\anaconda\\lib\\site-packages (from torchvision->sentence-transformers) (8.4.0)\n"
     ]
    }
   ],
   "source": [
    "!pip install transformers\n",
    "!pip install sentence-transformers"
   ]
  },
  {
   "cell_type": "code",
   "execution_count": 2,
   "id": "88130d30",
   "metadata": {},
   "outputs": [],
   "source": [
    "from sentence_transformers import SentenceTransformer, util"
   ]
  },
  {
   "cell_type": "code",
   "execution_count": 6,
   "id": "e57b6c29",
   "metadata": {},
   "outputs": [],
   "source": [
    "def semantic_word_search(query_word, word_list):\n",
    "    # Load a pre-trained Sentence Transformers model\n",
    "    model_name = \"bert-base-nli-mean-tokens\"  # You can choose a different model\n",
    "    model = SentenceTransformer(model_name)\n",
    "\n",
    "    # Encode the query word and list of words\n",
    "    query_embedding = model.encode(query_word, convert_to_tensor=True)\n",
    "    word_embeddings = model.encode(word_list, convert_to_tensor=True)\n",
    "\n",
    "    # Calculate cosine similarity between query and list of words\n",
    "    cosine_scores = util.pytorch_cos_sim(query_embedding, word_embeddings)[0]\n",
    "\n",
    "    # Convert cosine similarity scores to semantic scores\n",
    "    semantic_scores = (cosine_scores + 1) / 2  # Normalize to [0, 1] range\n",
    "\n",
    "    return semantic_scores\n",
    "\n"
   ]
  },
  {
   "cell_type": "code",
   "execution_count": 8,
   "id": "80ea8090",
   "metadata": {},
   "outputs": [
    {
     "name": "stdout",
     "output_type": "stream",
     "text": [
      "Word: camera, Semantic Score: 0.7919\n",
      "Word: CCTV, Semantic Score: 1.0000\n",
      "Word: surveillance, Semantic Score: 0.7891\n",
      "Word: Alarm, Semantic Score: 0.7450\n",
      "Word: Audio Visual, Semantic Score: 0.7880\n",
      "Word: Security Camera, Semantic Score: 0.7692\n",
      "Word: Security Hardware, Semantic Score: 0.7331\n",
      "Word: consulting, Semantic Score: 0.7353\n",
      "Word: Consultancy, Semantic Score: 0.7184\n",
      "Word: Consultant, Semantic Score: 0.7365\n",
      "Word: Professional service, Semantic Score: 0.6469\n",
      "Word: Consulting, Semantic Score: 0.7353\n",
      "Word: Security software, Semantic Score: 0.7264\n",
      "Word: video recording, Semantic Score: 0.8268\n",
      "Word: security device, Semantic Score: 0.7419\n",
      "Word: closed circuit, Semantic Score: 0.6999\n",
      "Word: bus, Semantic Score: 0.7441\n",
      "Word: apple, Semantic Score: 0.6561\n"
     ]
    }
   ],
   "source": [
    "query_word = \"CCTV\"\n",
    "word_list = [\"camera\", \"CCTV\", \"surveillance\", \"Alarm\", \"Audio Visual\", \"Security Camera\", \"Security Hardware\", \n",
    "             \"consulting\", \"Consultancy\", \"Consultant\", \"Professional service\", \"Consulting\",\n",
    "             \"Security software\", \"video recording\", \"security device\", \"closed circuit\", \"bus\", \"apple\"]\n",
    "\n",
    "semantic_scores = semantic_word_search(query_word, word_list)\n",
    "\n",
    "# Print the semantic scores for each word\n",
    "for word, score in zip(word_list, semantic_scores):\n",
    "    print(f\"Word: {word}, Semantic Score: {score:.4f}\")\n"
   ]
  },
  {
   "cell_type": "code",
   "execution_count": 7,
   "id": "92819a90",
   "metadata": {},
   "outputs": [
    {
     "name": "stdout",
     "output_type": "stream",
     "text": [
      "Word: consulting, Semantic Score: 1.0000\n",
      "Word: Consultancy, Semantic Score: 0.9526\n",
      "Word: Consultant, Semantic Score: 0.9591\n",
      "Word: Professional service, Semantic Score: 0.8844\n",
      "Word: Consulting, Semantic Score: 1.0000\n",
      "Word: Security software, Semantic Score: 0.8243\n",
      "Word: video recording, Semantic Score: 0.7641\n",
      "Word: security device, Semantic Score: 0.8307\n",
      "Word: closed circuit, Semantic Score: 0.7724\n",
      "Word: bus, Semantic Score: 0.7540\n",
      "Word: apple, Semantic Score: 0.7244\n"
     ]
    }
   ],
   "source": [
    "query_word = \"consulting\"\n",
    "word_list = [\"consulting\", \"Consultancy\", \"Consultant\", \"Professional service\", \"Consulting\",\n",
    "             \"Security software\", \"video recording\", \"security device\", \"closed circuit\", \"bus\", \"apple\"]\n",
    "\n",
    "semantic_scores = semantic_word_search(query_word, word_list)\n",
    "\n",
    "# Print the semantic scores for each word\n",
    "for word, score in zip(word_list, semantic_scores):\n",
    "    print(f\"Word: {word}, Semantic Score: {score:.4f}\")\n"
   ]
  },
  {
   "cell_type": "code",
   "execution_count": null,
   "id": "e75319a1",
   "metadata": {},
   "outputs": [],
   "source": []
  }
 ],
 "metadata": {
  "kernelspec": {
   "display_name": "Python 3 (ipykernel)",
   "language": "python",
   "name": "python3"
  },
  "language_info": {
   "codemirror_mode": {
    "name": "ipython",
    "version": 3
   },
   "file_extension": ".py",
   "mimetype": "text/x-python",
   "name": "python",
   "nbconvert_exporter": "python",
   "pygments_lexer": "ipython3",
   "version": "3.9.7"
  }
 },
 "nbformat": 4,
 "nbformat_minor": 5
}
