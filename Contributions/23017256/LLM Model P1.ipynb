{
 "cells": [
  {
   "cell_type": "code",
   "execution_count": 1,
   "id": "b3376999",
   "metadata": {},
   "outputs": [
    {
     "name": "stderr",
     "output_type": "stream",
     "text": [
      "[nltk_data] Downloading package stopwords to\n",
      "[nltk_data]     C:\\Users\\rashi\\AppData\\Roaming\\nltk_data...\n",
      "[nltk_data]   Package stopwords is already up-to-date!\n"
     ]
    },
    {
     "name": "stdout",
     "output_type": "stream",
     "text": [
      "Requirement already satisfied: rake-nltk in d:\\anaconda\\lib\\site-packages (1.0.6)\n",
      "Requirement already satisfied: nltk<4.0.0,>=3.6.2 in d:\\anaconda\\lib\\site-packages (from rake-nltk) (3.6.5)\n",
      "Requirement already satisfied: click in d:\\anaconda\\lib\\site-packages (from nltk<4.0.0,>=3.6.2->rake-nltk) (8.0.3)\n",
      "Requirement already satisfied: joblib in d:\\anaconda\\lib\\site-packages (from nltk<4.0.0,>=3.6.2->rake-nltk) (1.1.0)\n",
      "Requirement already satisfied: regex>=2021.8.3 in d:\\anaconda\\lib\\site-packages (from nltk<4.0.0,>=3.6.2->rake-nltk) (2021.8.3)\n",
      "Requirement already satisfied: tqdm in d:\\anaconda\\lib\\site-packages (from nltk<4.0.0,>=3.6.2->rake-nltk) (4.62.3)\n",
      "Requirement already satisfied: colorama in d:\\anaconda\\lib\\site-packages (from click->nltk<4.0.0,>=3.6.2->rake-nltk) (0.4.6)\n",
      "Requirement already satisfied: spacy in d:\\anaconda\\lib\\site-packages (3.6.1)\n",
      "Requirement already satisfied: murmurhash<1.1.0,>=0.28.0 in d:\\anaconda\\lib\\site-packages (from spacy) (1.0.9)\n",
      "Requirement already satisfied: jinja2 in d:\\anaconda\\lib\\site-packages (from spacy) (2.11.3)\n",
      "Requirement already satisfied: smart-open<7.0.0,>=5.2.1 in d:\\anaconda\\lib\\site-packages (from spacy) (6.3.0)\n",
      "Requirement already satisfied: typer<0.10.0,>=0.3.0 in d:\\anaconda\\lib\\site-packages (from spacy) (0.9.0)\n",
      "Requirement already satisfied: cymem<2.1.0,>=2.0.2 in d:\\anaconda\\lib\\site-packages (from spacy) (2.0.7)\n",
      "Requirement already satisfied: preshed<3.1.0,>=3.0.2 in d:\\anaconda\\lib\\site-packages (from spacy) (3.0.8)\n",
      "Requirement already satisfied: numpy>=1.15.0 in d:\\anaconda\\lib\\site-packages (from spacy) (1.20.3)\n",
      "Requirement already satisfied: spacy-loggers<2.0.0,>=1.0.0 in d:\\anaconda\\lib\\site-packages (from spacy) (1.0.4)\n",
      "Requirement already satisfied: pathy>=0.10.0 in d:\\anaconda\\lib\\site-packages (from spacy) (0.10.2)\n",
      "Requirement already satisfied: spacy-legacy<3.1.0,>=3.0.11 in d:\\anaconda\\lib\\site-packages (from spacy) (3.0.12)\n",
      "Requirement already satisfied: tqdm<5.0.0,>=4.38.0 in d:\\anaconda\\lib\\site-packages (from spacy) (4.62.3)\n",
      "Requirement already satisfied: langcodes<4.0.0,>=3.2.0 in d:\\anaconda\\lib\\site-packages (from spacy) (3.3.0)\n",
      "Requirement already satisfied: wasabi<1.2.0,>=0.9.1 in d:\\anaconda\\lib\\site-packages (from spacy) (1.1.2)\n",
      "Requirement already satisfied: catalogue<2.1.0,>=2.0.6 in d:\\anaconda\\lib\\site-packages (from spacy) (2.0.9)\n",
      "Requirement already satisfied: packaging>=20.0 in d:\\anaconda\\lib\\site-packages (from spacy) (21.0)\n",
      "Requirement already satisfied: srsly<3.0.0,>=2.4.3 in d:\\anaconda\\lib\\site-packages (from spacy) (2.4.7)\n",
      "Requirement already satisfied: setuptools in d:\\anaconda\\lib\\site-packages (from spacy) (58.0.4)\n",
      "Requirement already satisfied: pydantic!=1.8,!=1.8.1,<3.0.0,>=1.7.4 in d:\\anaconda\\lib\\site-packages (from spacy) (2.3.0)\n",
      "Requirement already satisfied: requests<3.0.0,>=2.13.0 in d:\\anaconda\\lib\\site-packages (from spacy) (2.26.0)\n",
      "Requirement already satisfied: thinc<8.2.0,>=8.1.8 in d:\\anaconda\\lib\\site-packages (from spacy) (8.1.12)\n",
      "Requirement already satisfied: pyparsing>=2.0.2 in d:\\anaconda\\lib\\site-packages (from packaging>=20.0->spacy) (3.0.4)\n",
      "Requirement already satisfied: pydantic-core==2.6.3 in d:\\anaconda\\lib\\site-packages (from pydantic!=1.8,!=1.8.1,<3.0.0,>=1.7.4->spacy) (2.6.3)\n",
      "Requirement already satisfied: typing-extensions>=4.6.1 in d:\\anaconda\\lib\\site-packages (from pydantic!=1.8,!=1.8.1,<3.0.0,>=1.7.4->spacy) (4.7.1)\n",
      "Requirement already satisfied: annotated-types>=0.4.0 in d:\\anaconda\\lib\\site-packages (from pydantic!=1.8,!=1.8.1,<3.0.0,>=1.7.4->spacy) (0.5.0)\n",
      "Requirement already satisfied: certifi>=2017.4.17 in d:\\anaconda\\lib\\site-packages (from requests<3.0.0,>=2.13.0->spacy) (2021.10.8)\n",
      "Requirement already satisfied: idna<4,>=2.5 in d:\\anaconda\\lib\\site-packages (from requests<3.0.0,>=2.13.0->spacy) (3.2)\n",
      "Requirement already satisfied: urllib3<1.27,>=1.21.1 in d:\\anaconda\\lib\\site-packages (from requests<3.0.0,>=2.13.0->spacy) (1.26.7)\n",
      "Requirement already satisfied: charset-normalizer~=2.0.0 in d:\\anaconda\\lib\\site-packages (from requests<3.0.0,>=2.13.0->spacy) (2.0.4)\n",
      "Requirement already satisfied: blis<0.8.0,>=0.7.8 in d:\\anaconda\\lib\\site-packages (from thinc<8.2.0,>=8.1.8->spacy) (0.7.10)\n",
      "Requirement already satisfied: confection<1.0.0,>=0.0.1 in d:\\anaconda\\lib\\site-packages (from thinc<8.2.0,>=8.1.8->spacy) (0.1.1)\n",
      "Requirement already satisfied: colorama in d:\\anaconda\\lib\\site-packages (from tqdm<5.0.0,>=4.38.0->spacy) (0.4.6)\n",
      "Requirement already satisfied: click<9.0.0,>=7.1.1 in d:\\anaconda\\lib\\site-packages (from typer<0.10.0,>=0.3.0->spacy) (8.0.3)\n",
      "Requirement already satisfied: MarkupSafe>=0.23 in d:\\anaconda\\lib\\site-packages (from jinja2->spacy) (1.1.1)\n"
     ]
    }
   ],
   "source": [
    "import nltk\n",
    "nltk.download('stopwords')\n",
    "!pip install rake-nltk\n",
    "!pip install spacy"
   ]
  },
  {
   "cell_type": "code",
   "execution_count": 2,
   "id": "21d8e72b",
   "metadata": {},
   "outputs": [
    {
     "name": "stdout",
     "output_type": "stream",
     "text": [
      "Type of Work: Goods and Services\n",
      "Objects: ['cctv installation', 'contracts', '80172000', '80101513', '7000', '5000', '41102614', '2023', '2023', '20', '10', '04', '03']\n",
      "\n",
      "\n",
      "\n",
      "security and system can be present individually but higher similarity when present as a pair\n"
     ]
    }
   ],
   "source": [
    "import spacy\n",
    "import re\n",
    "from nltk.corpus import stopwords as sw\n",
    "from rake_nltk import Rake\n",
    "\n",
    "# Function to extract objects and keywords from text\n",
    "def extract_keywords(text):\n",
    "    \n",
    "    # Create a Rake object\n",
    "    r = Rake(stopwords=[\"includes\", \"the\", \"with\", \"and\", \"a\", \"is\", \"to\", \"from\", \"having\", \"was\", \"and\", \"of\", \"for\", 'as'])\n",
    "\n",
    "    # Extract keywords from the text\n",
    "    r.extract_keywords_from_text(text)\n",
    "\n",
    "    # Get the ranked keywords from RAKE\n",
    "    raked_keywords = r.get_ranked_phrases()\n",
    "\n",
    "    return raked_keywords\n",
    "\n",
    "def extract_type_of_work(user_input):\n",
    "    # Convert the user input to lowercase for case-insensitive matching\n",
    "    user_input_lower = user_input.lower()\n",
    "\n",
    "    # Check if \"Goods and Services\" appears in the user input\n",
    "    if \"goods and services\" in user_input_lower:\n",
    "        return \"Goods and Services\"\n",
    "    \n",
    "    # Check if \"Works\" appears in the user input\n",
    "    elif \"works\" in user_input_lower:\n",
    "        return \"Works\"\n",
    "\n",
    "    # If neither term is found, return a default value\n",
    "    else:\n",
    "        return \"Not specified\"\n",
    "\n",
    "# User input\n",
    "user_input = \"contracts having CCTV installation from 2023-03-10 to 2023-04-20 cost from $5000 to $7000 with UNSPSC Code 80172000, 80101513, 41102614 having Goods and Services\"\n",
    "#text = \"contracts having CCTV installation from 2023-03-10 to 2023-04-20 cost from $5000 to $7000.\"\n",
    "#text = \"The security system includes CCTV cameras, computer software, and a laptop.\"\n",
    "#user_input = input(\"Enter text: \")\n",
    "\n",
    "# Words to remove from user_input\n",
    "words_to_remove = [\"type of work\", \"unspsc code\", \"date\", \"cost\", \"price\", \"price range\", \"amount\"]\n",
    "\n",
    "# Extract date ranges, amount ranges, and objects\n",
    "type_of_work = extract_type_of_work(user_input)\n",
    "# Remove date ranges from user_input\n",
    "user_input = re.sub(type_of_work, \"\", user_input)\n",
    "for word in words_to_remove:\n",
    "    user_input = re.sub(word, \"\", user_input.lower())\n",
    "\n",
    "objects = extract_keywords(user_input)\n",
    "\n",
    "# Print the results\n",
    "print(\"Type of Work:\", type_of_work)\n",
    "print(\"Objects:\", objects)\n",
    "print(\"\\n\\n\\nsecurity and system can be present individually but higher similarity when present as a pair\")"
   ]
  },
  {
   "cell_type": "code",
   "execution_count": null,
   "id": "1cbfe2f1",
   "metadata": {},
   "outputs": [],
   "source": []
  }
 ],
 "metadata": {
  "kernelspec": {
   "display_name": "Python 3 (ipykernel)",
   "language": "python",
   "name": "python3"
  },
  "language_info": {
   "codemirror_mode": {
    "name": "ipython",
    "version": 3
   },
   "file_extension": ".py",
   "mimetype": "text/x-python",
   "name": "python",
   "nbconvert_exporter": "python",
   "pygments_lexer": "ipython3",
   "version": "3.9.7"
  }
 },
 "nbformat": 4,
 "nbformat_minor": 5
}
