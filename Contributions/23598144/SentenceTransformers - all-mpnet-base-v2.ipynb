{
 "cells": [
  {
   "cell_type": "code",
   "execution_count": 1,
   "id": "4f79fc59",
   "metadata": {},
   "outputs": [],
   "source": [
    "from sentence_transformers import SentenceTransformer, util\n",
    "import pandas as pd\n",
    "import json"
   ]
  },
  {
   "cell_type": "code",
   "execution_count": 2,
   "id": "2846e6c2",
   "metadata": {},
   "outputs": [],
   "source": [
    "# Load the Sentence Transformer model\n",
    "model = SentenceTransformer('all-mpnet-base-v2')"
   ]
  },
  {
   "cell_type": "code",
   "execution_count": 3,
   "id": "fb9adf23",
   "metadata": {},
   "outputs": [],
   "source": [
    "def calculate_document_similarity(query_word, dataset_path):\n",
    "    # Read your dataset\n",
    "    df = pd.read_csv(dataset_path, encoding='utf-8')\n",
    "\n",
    "    # Initialize result lists for reference numbers and similarity scores\n",
    "    reference_numbers = []\n",
    "    similarity_scores = []\n",
    "\n",
    "    for index, row in df.iterrows():\n",
    "        columns_to_concatenate = ['Contract Title', 'Description', 'Tenders Content']  # Add your column names here\n",
    "        non_empty_values = []\n",
    "\n",
    "        for column in columns_to_concatenate:\n",
    "            column_values = row[column]\n",
    "            if not pd.isna(column_values) and column_values.strip():\n",
    "                non_empty_values.append(column_values)\n",
    "\n",
    "        if non_empty_values:\n",
    "            text_data = \" \".join(non_empty_values)\n",
    "\n",
    "            # Calculate semantic similarity between the text_data and the query_word\n",
    "            query_embedding = model.encode(query_word, convert_to_tensor=True)\n",
    "            text_embeddings = model.encode(text_data, convert_to_tensor=True)\n",
    "            cosine_scores = util.pytorch_cos_sim(query_embedding, text_embeddings).item()\n",
    "\n",
    "            reference_numbers.append(row['Reference Number'])\n",
    "            similarity_scores.append(cosine_scores)\n",
    "\n",
    "    # Initialize an output list to hold dictionaries for each reference number\n",
    "    output_list = []\n",
    "\n",
    "    # Iterate through reference numbers and associated values\n",
    "    for ref_num, sim_score in zip(reference_numbers, similarity_scores):\n",
    "        ref_values = {\n",
    "            \"Client Agency\": str(df.loc[df['Reference Number'] == ref_num]['Client Agency'].values[0]),\n",
    "            \"Contract Title\": str(df.loc[df['Reference Number'] == ref_num]['Contract Title'].values[0]),\n",
    "            \"Procurement Method\": str(df.loc[df['Reference Number'] == ref_num]['Procurement Method'].values[0]),\n",
    "            \"Reference Number\": ref_num,\n",
    "            \"Revised Contract Value\": float(df.loc[df['Reference Number'] == ref_num]['Revised Contract Value'].values[0]),\n",
    "            \"Supplier Name\": str(df.loc[df['Reference Number'] == ref_num]['Supplier Name'].values[0]),\n",
    "            \"Tender Closing Date\": str(df.loc[df['Reference Number'] == ref_num]['Tender Closing Date'].values[0]),\n",
    "            \"Type of Work\": str(df.loc[df['Reference Number'] == ref_num]['Type of Work'].values[0]),\n",
    "            \"UNSPSC Code\": int(df.loc[df['Reference Number'] == ref_num]['UNSPSC Code'].values[0]),\n",
    "            \"UNSPSC Title\": str(df.loc[df['Reference Number'] == ref_num]['UNSPSC Title'].values[0]),\n",
    "            \"Similarity Score\": float(sim_score),  # Convert to float for JSON serialization\n",
    "        }\n",
    "        output_list.append(ref_values)\n",
    "\n",
    "    return json.dumps(output_list, indent=2)"
   ]
  },
  {
   "cell_type": "code",
   "execution_count": 4,
   "id": "0cdd69aa",
   "metadata": {},
   "outputs": [
    {
     "name": "stdout",
     "output_type": "stream",
     "text": [
      "[\n",
      "  {\n",
      "    \"Client Agency\": \"Programmed Facility Management\",\n",
      "    \"Contract Title\": \"PB Maintenance Security Screen Upgrade\",\n",
      "    \"Procurement Method\": \"Open Advertisement\",\n",
      "    \"Reference Number\": \"HOU136\",\n",
      "    \"Revised Contract Value\": 1.0,\n",
      "    \"Supplier Name\": \"Profix Australia\",\n",
      "    \"Tender Closing Date\": \"4/12/2023 0:00\",\n",
      "    \"Type of Work\": \"Works\",\n",
      "    \"UNSPSC Code\": 72100000,\n",
      "    \"UNSPSC Title\": \"Building and facility maintenance and repair services\",\n",
      "    \"Similarity Score\": 0.19007892906665802\n",
      "  },\n",
      "  {\n",
      "    \"Client Agency\": \"Department of Education\",\n",
      "    \"Contract Title\": \"Department of Education - Geraldton Residential College - CCTV Upgrade\",\n",
      "    \"Procurement Method\": \"Open Advertisement\",\n",
      "    \"Reference Number\": \"FINW0737022\",\n",
      "    \"Revised Contract Value\": 115583.0,\n",
      "    \"Supplier Name\": \"Incite Security Pty Ltd\",\n",
      "    \"Tender Closing Date\": \"3/10/2023 0:00\",\n",
      "    \"Type of Work\": \"Works\",\n",
      "    \"UNSPSC Code\": 92121700,\n",
      "    \"UNSPSC Title\": \"Security systems services\",\n",
      "    \"Similarity Score\": 0.2868705689907074\n",
      "  }\n",
      "]\n"
     ]
    }
   ],
   "source": [
    "# Example usage\n",
    "query_word = \"CCTV\"\n",
    "dataset_path = \"extract_try.csv\"  # Replace with your dataset path\n",
    "semantic_scores_json = calculate_document_similarity(query_word, dataset_path)\n",
    "print(semantic_scores_json)"
   ]
  }
 ],
 "metadata": {
  "kernelspec": {
   "display_name": "Python 3 (ipykernel)",
   "language": "python",
   "name": "python3"
  },
  "language_info": {
   "codemirror_mode": {
    "name": "ipython",
    "version": 3
   },
   "file_extension": ".py",
   "mimetype": "text/x-python",
   "name": "python",
   "nbconvert_exporter": "python",
   "pygments_lexer": "ipython3",
   "version": "3.9.7"
  }
 },
 "nbformat": 4,
 "nbformat_minor": 5
}
