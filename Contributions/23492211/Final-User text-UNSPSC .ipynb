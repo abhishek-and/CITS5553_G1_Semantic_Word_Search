{
 "cells": [
  {
   "cell_type": "code",
   "execution_count": 14,
   "id": "c6bf2d58",
   "metadata": {},
   "outputs": [
    {
     "name": "stdout",
     "output_type": "stream",
     "text": [
      "Enter text: was 123456789\n",
      "Objects: []\n",
      "UNSPSC Codes: []\n"
     ]
    }
   ],
   "source": [
    "# Extracting 'words'(as group) from the user input text\n",
    "# Extracting and Checking whether the UNSPSC code is valid(only the digits)\n",
    "import spacy\n",
    "import re\n",
    "from dateutil.parser import parse\n",
    "\n",
    "# Load the spaCy model\n",
    "nlp = spacy.load('en_core_web_sm')\n",
    "\n",
    "unspsc_code_pattern = r'\\b\\d{8}\\b'  # Pattern for 8-digit UNSPSC Code\n",
    "\n",
    "# Function to extract objects from text - Extracting as 'group of words'\n",
    "def extract_objects(text):\n",
    "    # Tokenize the input text\n",
    "    doc = nlp(text)\n",
    "\n",
    "    # Extract objects from the text\n",
    "    extracted_objects = []\n",
    "    for token in doc.noun_chunks:\n",
    "        extracted_objects.append(token.text.lower())\n",
    "    return extracted_objects\n",
    "\n",
    "# Function to extract UNSPSC Codes from text \n",
    "# Will only check whether the code has 8-digits\n",
    "# Difficulty - Unable to check whether the entered code is valid or not from the site due to webpage structure\n",
    "def extract_unspsc_codes(text):\n",
    "    unspsc_codes = re.findall(unspsc_code_pattern, text)\n",
    "    return unspsc_codes\n",
    "\n",
    "# User input\n",
    "user_input = input(\"Enter text: \")\n",
    "\n",
    "# Extract objects, and UNSPSC Codes\n",
    "objects = extract_objects(user_input)\n",
    "unspsc_codes = extract_unspsc_codes(user_input)\n",
    "\n",
    "# Print the results\n",
    "print(\"Objects:\", objects)\n",
    "print(\"UNSPSC Codes:\", unspsc_codes)"
   ]
  },
  {
   "cell_type": "code",
   "execution_count": 15,
   "id": "1c6eece1",
   "metadata": {},
   "outputs": [],
   "source": [
    "# Sample search string\n",
    "\n",
    "#contracts having CCTV installation  with 80172000,80101513,41102614,1234567\n",
    "\n",
    "#contracts having CCTV installation from 2023-03-10 to 2023-04-20 cost from $5000 to $7000 with 80172000,80101513,41102614,1234567"
   ]
  },
  {
   "cell_type": "code",
   "execution_count": null,
   "id": "d6ffb0e7",
   "metadata": {},
   "outputs": [],
   "source": []
  }
 ],
 "metadata": {
  "kernelspec": {
   "display_name": "Python 3 (ipykernel)",
   "language": "python",
   "name": "python3"
  },
  "language_info": {
   "codemirror_mode": {
    "name": "ipython",
    "version": 3
   },
   "file_extension": ".py",
   "mimetype": "text/x-python",
   "name": "python",
   "nbconvert_exporter": "python",
   "pygments_lexer": "ipython3",
   "version": "3.8.5"
  }
 },
 "nbformat": 4,
 "nbformat_minor": 5
}
