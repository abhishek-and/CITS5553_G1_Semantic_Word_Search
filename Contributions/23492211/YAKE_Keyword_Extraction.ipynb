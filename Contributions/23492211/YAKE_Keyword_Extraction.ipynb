{
  "nbformat": 4,
  "nbformat_minor": 0,
  "metadata": {
    "colab": {
      "provenance": []
    },
    "kernelspec": {
      "name": "python3",
      "display_name": "Python 3"
    },
    "language_info": {
      "name": "python"
    }
  },
  "cells": [
    {
      "cell_type": "code",
      "source": [
        "!pip install yake"
      ],
      "metadata": {
        "colab": {
          "base_uri": "https://localhost:8080/"
        },
        "id": "9lhs-Cdoe5Pc",
        "outputId": "cc355d49-ba57-4a06-a93a-09256b69214a"
      },
      "execution_count": 3,
      "outputs": [
        {
          "output_type": "stream",
          "name": "stdout",
          "text": [
            "Collecting yake\n",
            "  Downloading yake-0.4.8-py2.py3-none-any.whl (60 kB)\n",
            "\u001b[?25l     \u001b[90m━━━━━━━━━━━━━━━━━━━━━━━━━━━━━━━━━━━━━━━━\u001b[0m \u001b[32m0.0/60.2 kB\u001b[0m \u001b[31m?\u001b[0m eta \u001b[36m-:--:--\u001b[0m\r\u001b[2K     \u001b[90m━━━━━━━━━━━━━━━━━━━━━━━━━━━━━━━━━━━━━━━━\u001b[0m \u001b[32m60.2/60.2 kB\u001b[0m \u001b[31m2.3 MB/s\u001b[0m eta \u001b[36m0:00:00\u001b[0m\n",
            "\u001b[?25hRequirement already satisfied: tabulate in /usr/local/lib/python3.10/dist-packages (from yake) (0.9.0)\n",
            "Requirement already satisfied: click>=6.0 in /usr/local/lib/python3.10/dist-packages (from yake) (8.1.7)\n",
            "Requirement already satisfied: numpy in /usr/local/lib/python3.10/dist-packages (from yake) (1.23.5)\n",
            "Collecting segtok (from yake)\n",
            "  Downloading segtok-1.5.11-py3-none-any.whl (24 kB)\n",
            "Requirement already satisfied: networkx in /usr/local/lib/python3.10/dist-packages (from yake) (3.1)\n",
            "Collecting jellyfish (from yake)\n",
            "  Downloading jellyfish-1.0.1-cp310-cp310-manylinux_2_17_x86_64.manylinux2014_x86_64.whl (1.2 MB)\n",
            "\u001b[2K     \u001b[90m━━━━━━━━━━━━━━━━━━━━━━━━━━━━━━━━━━━━━━━━\u001b[0m \u001b[32m1.2/1.2 MB\u001b[0m \u001b[31m22.8 MB/s\u001b[0m eta \u001b[36m0:00:00\u001b[0m\n",
            "\u001b[?25hRequirement already satisfied: regex in /usr/local/lib/python3.10/dist-packages (from segtok->yake) (2023.6.3)\n",
            "Installing collected packages: segtok, jellyfish, yake\n",
            "Successfully installed jellyfish-1.0.1 segtok-1.5.11 yake-0.4.8\n"
          ]
        }
      ]
    },
    {
      "cell_type": "code",
      "execution_count": 4,
      "metadata": {
        "colab": {
          "base_uri": "https://localhost:8080/"
        },
        "id": "uA2YoRyDaDRJ",
        "outputId": "997aa791-1ad1-4311-c60c-fa0bc26e9bfc"
      },
      "outputs": [
        {
          "output_type": "stream",
          "name": "stdout",
          "text": [
            "Extracted Details:\n",
            "query: CCTV installation cctv, Goods and Services, CCTV installation, installation cctv, cctv having Goods, CCTV, Goods, Services, cost, installation\n",
            "startDate: 2023-03-10\n",
            "endDate: 2023-04-20\n",
            "Range: [5000.0, 7000.0]\n",
            "typeOfWork: Goods and Services\n"
          ]
        }
      ],
      "source": [
        "import yake\n",
        "import re\n",
        "import dateutil.parser\n",
        "import spacy\n",
        "\n",
        "# Sample text\n",
        "doc = \"\"\"\n",
        "    CCTV installation cctv  having Goods and Services from 2023-03-10 to 2023-04-20 cost from $5000 to $7000\"\"\"\n",
        "\n",
        "# Load spaCy's English language model\n",
        "nlp = spacy.load(\"en_core_web_sm\")\n",
        "\n",
        "# Create a YAKE keyword extractor\n",
        "kw_extractor = yake.KeywordExtractor()\n",
        "\n",
        "# Extract keywords from the text\n",
        "keywords = kw_extractor.extract_keywords(doc)\n",
        "\n",
        "# Initialize lists to store extracted dates\n",
        "dates = []\n",
        "\n",
        "# Regular expressions for extracting date patterns (yyyy-mm-dd) and prices\n",
        "date_pattern = r'\\d{4}-\\d{2}-\\d{2}'\n",
        "price_pattern = r'\\$\\d+(?:,\\d{3})*(?:\\.\\d{2})?'  # Matches currency values (e.g., $5,000.00 or $5000)\n",
        "\n",
        "# Extract dates using dateutil\n",
        "date_strings = re.findall(date_pattern, doc)\n",
        "for date_str in date_strings:\n",
        "    date = dateutil.parser.parse(date_str)\n",
        "    dates.append(date.strftime('%Y-%m-%d'))\n",
        "\n",
        "# Extract the price range using regular expressions\n",
        "price_strings = re.findall(price_pattern, doc)\n",
        "prices = []\n",
        "for price_str in price_strings:\n",
        "    price = price_str.replace('$', '').replace(',', '')\n",
        "    prices.append(float(price))\n",
        "\n",
        "# Convert the text to lowercase for case-insensitive matching\n",
        "doc_lower = doc.lower()\n",
        "\n",
        "# Initialize type of work as an empty string\n",
        "work_type = \"\"\n",
        "\n",
        "# Check if \"Goods and Services\" appears in the user input\n",
        "if \"goods and services\" in doc_lower:\n",
        "    work_type = \"Goods and Services\"\n",
        "\n",
        "# Check if \"Works\" appears in the user input\n",
        "elif \"works\" in doc_lower:\n",
        "    work_type = \"Works\"\n",
        "\n",
        "# Print the details in the desired format\n",
        "result_dict = {\n",
        "    \"query\": \", \".join([kw[0] for kw in keywords]),\n",
        "    \"startDate\": dates[0] if dates else None,\n",
        "    \"endDate\": dates[1] if len(dates) > 1 else None,\n",
        "    \"Range\": prices if prices else None,\n",
        "    \"typeOfWork\": work_type,\n",
        "}\n",
        "\n",
        "print(\"Extracted Details:\")\n",
        "for key, value in result_dict.items():\n",
        "    print(f\"{key}: {value}\")\n"
      ]
    }
  ]
}